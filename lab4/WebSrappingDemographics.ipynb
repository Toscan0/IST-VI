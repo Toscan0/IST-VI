{
 "cells": [
  {
   "cell_type": "code",
   "execution_count": 216,
   "metadata": {
    "collapsed": true
   },
   "outputs": [],
   "source": [
    "import pandas as pd\n",
    "\n",
    "path = \"/home/pedro/Desktop/VI/VI_Project/lab4/csv/Oscars-demographics-DFE.csv\"\n",
    "csv = pd.read_csv(path, encoding='utf-8')\n",
    "df = pd.DataFrame(csv)"
   ]
  },
  {
   "cell_type": "code",
   "execution_count": 217,
   "metadata": {
    "collapsed": true
   },
   "outputs": [],
   "source": [
    "def clean_country(string):\n",
    "    if(\",\" in string):\n",
    "        string = string[string.rindex(',')+1:]\n",
    "        if(len(string) <= 3):\n",
    "            return \"USA\"\n",
    "        \n",
    "    if(string.strip() == \"Na\"):\n",
    "        string = \"Austria\"\n",
    "        \n",
    "    if(string.strip() == \"New York City\"):\n",
    "        string = \"USA\"\n",
    "    if(string.strip() == \"Canary Islands\"):\n",
    "        string = \"Spain\"\n",
    "        \n",
    "    return string.strip()\n",
    "\n",
    "new_dict = { \"birthplace\": [] , \"person\": [], \"year_of_award\": [], \"award\":[]}\n",
    "\n",
    "# iterate over rows with iterrows()\n",
    "for index, row in df.iterrows():\n",
    "    new_dict[\"birthplace\"].append(clean_country(row['birthplace']))\n",
    "    new_dict[\"person\"].append(row[\"person\"])\n",
    "    new_dict[\"year_of_award\"].append(row[\"year_of_award\"])\n",
    "    new_dict[\"award\"].append(row[\"award\"])\n"
   ]
  },
  {
   "cell_type": "code",
   "execution_count": 218,
   "metadata": {
    "collapsed": true
   },
   "outputs": [],
   "source": [
    "new_df = pd.DataFrame(new_dict)\n",
    "new_df = new_df.sort_values(by=['year_of_award'])"
   ]
  },
  {
   "cell_type": "code",
   "execution_count": 219,
   "metadata": {},
   "outputs": [
    {
     "data": {
      "text/plain": [
       "array(['Moldova', 'Switzerland', 'USA', 'Scotland', 'England', 'Canada',\n",
       "       'France', 'Italy', 'Ukraine', 'Germany', 'Austria', 'India',\n",
       "       'Japan', 'Hungary', 'Greece', 'Ireland', 'Sweden', 'Wales',\n",
       "       'Turkey', 'Puerto Rico', 'Russia', 'Mexico', 'Belgium', 'Romania',\n",
       "       'Czechoslovakia', 'Cambodia', 'Australia', 'New Zealand',\n",
       "       'South Africa', 'Taiwan', 'Spain', 'Israel'], dtype=object)"
      ]
     },
     "execution_count": 219,
     "metadata": {},
     "output_type": "execute_result"
    }
   ],
   "source": [
    "new_df[\"birthplace\"].unique()"
   ]
  },
  {
   "cell_type": "code",
   "execution_count": 222,
   "metadata": {},
   "outputs": [
    {
     "data": {
      "text/plain": [
       "USA               289\n",
       "England            58\n",
       "France              9\n",
       "Austria             9\n",
       "Canada              8\n",
       "Italy               7\n",
       "Wales               6\n",
       "Japan               5\n",
       "Germany             4\n",
       "Australia           4\n",
       "Puerto Rico         3\n",
       "Russia              3\n",
       "Scotland            3\n",
       "India               3\n",
       "Mexico              3\n",
       "Sweden              3\n",
       "Spain               2\n",
       "Taiwan              2\n",
       "Moldova             2\n",
       "Hungary             2\n",
       "New Zealand         2\n",
       "Czechoslovakia      2\n",
       "Ireland             2\n",
       "Turkey              2\n",
       "Switzerland         1\n",
       "Cambodia            1\n",
       "Belgium             1\n",
       "Romania             1\n",
       "South Africa        1\n",
       "Ukraine             1\n",
       "Israel              1\n",
       "Greece              1\n",
       "Name: birthplace, dtype: int64"
      ]
     },
     "execution_count": 222,
     "metadata": {},
     "output_type": "execute_result"
    }
   ],
   "source": [
    "new_df['birthplace'].value_counts()"
   ]
  },
  {
   "cell_type": "code",
   "execution_count": 221,
   "metadata": {
    "collapsed": true
   },
   "outputs": [],
   "source": [
    "export_csv = new_df.to_csv(r'/home/pedro/Desktop/VI/VI_Project/lab4/csv/new_demographics.csv')\n"
   ]
  }
 ],
 "metadata": {
  "kernelspec": {
   "display_name": "Python 3",
   "language": "python",
   "name": "python3"
  },
  "language_info": {
   "codemirror_mode": {
    "name": "ipython",
    "version": 3
   },
   "file_extension": ".py",
   "mimetype": "text/x-python",
   "name": "python",
   "nbconvert_exporter": "python",
   "pygments_lexer": "ipython3",
   "version": "3.6.3"
  }
 },
 "nbformat": 4,
 "nbformat_minor": 2
}
