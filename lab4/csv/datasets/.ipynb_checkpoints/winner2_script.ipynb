{
 "cells": [
  {
   "cell_type": "code",
   "execution_count": 89,
   "metadata": {
    "collapsed": true
   },
   "outputs": [],
   "source": [
    "import pandas as pd"
   ]
  },
  {
   "cell_type": "code",
   "execution_count": 90,
   "metadata": {},
   "outputs": [
    {
     "data": {
      "text/html": [
       "<div>\n",
       "<style>\n",
       "    .dataframe thead tr:only-child th {\n",
       "        text-align: right;\n",
       "    }\n",
       "\n",
       "    .dataframe thead th {\n",
       "        text-align: left;\n",
       "    }\n",
       "\n",
       "    .dataframe tbody tr th {\n",
       "        vertical-align: top;\n",
       "    }\n",
       "</style>\n",
       "<table border=\"1\" class=\"dataframe\">\n",
       "  <thead>\n",
       "    <tr style=\"text-align: right;\">\n",
       "      <th></th>\n",
       "      <th>percentage_race_win_nom</th>\n",
       "      <th>race_ethnicity</th>\n",
       "      <th>winner</th>\n",
       "      <th>year</th>\n",
       "      <th>political_party</th>\n",
       "    </tr>\n",
       "  </thead>\n",
       "  <tbody>\n",
       "    <tr>\n",
       "      <th>0</th>\n",
       "      <td>100.0</td>\n",
       "      <td>White</td>\n",
       "      <td>0</td>\n",
       "      <td>1928</td>\n",
       "      <td>Republican</td>\n",
       "    </tr>\n",
       "    <tr>\n",
       "      <th>1</th>\n",
       "      <td>100.0</td>\n",
       "      <td>White</td>\n",
       "      <td>1</td>\n",
       "      <td>1928</td>\n",
       "      <td>Republican</td>\n",
       "    </tr>\n",
       "    <tr>\n",
       "      <th>2</th>\n",
       "      <td>100.0</td>\n",
       "      <td>White</td>\n",
       "      <td>2</td>\n",
       "      <td>1928</td>\n",
       "      <td>Republican</td>\n",
       "    </tr>\n",
       "    <tr>\n",
       "      <th>3</th>\n",
       "      <td>100.0</td>\n",
       "      <td>White</td>\n",
       "      <td>0</td>\n",
       "      <td>1929</td>\n",
       "      <td>Republican</td>\n",
       "    </tr>\n",
       "    <tr>\n",
       "      <th>4</th>\n",
       "      <td>100.0</td>\n",
       "      <td>White</td>\n",
       "      <td>1</td>\n",
       "      <td>1929</td>\n",
       "      <td>Republican</td>\n",
       "    </tr>\n",
       "  </tbody>\n",
       "</table>\n",
       "</div>"
      ],
      "text/plain": [
       "   percentage_race_win_nom race_ethnicity  winner  year political_party\n",
       "0                    100.0          White       0  1928      Republican\n",
       "1                    100.0          White       1  1928      Republican\n",
       "2                    100.0          White       2  1928      Republican\n",
       "3                    100.0          White       0  1929      Republican\n",
       "4                    100.0          White       1  1929      Republican"
      ]
     },
     "execution_count": 90,
     "metadata": {},
     "output_type": "execute_result"
    }
   ],
   "source": [
    "tmp = \"/home/pedro/Desktop/VI/VI_Project/DATASETS/new_linechart.csv\"\n",
    "data = pd.read_csv(tmp)\n",
    "\n",
    "data.head()"
   ]
  },
  {
   "cell_type": "code",
   "execution_count": 91,
   "metadata": {},
   "outputs": [
    {
     "data": {
      "text/html": [
       "<div>\n",
       "<style>\n",
       "    .dataframe thead tr:only-child th {\n",
       "        text-align: right;\n",
       "    }\n",
       "\n",
       "    .dataframe thead th {\n",
       "        text-align: left;\n",
       "    }\n",
       "\n",
       "    .dataframe tbody tr th {\n",
       "        vertical-align: top;\n",
       "    }\n",
       "</style>\n",
       "<table border=\"1\" class=\"dataframe\">\n",
       "  <thead>\n",
       "    <tr style=\"text-align: right;\">\n",
       "      <th></th>\n",
       "      <th>percentage_race_win_nom</th>\n",
       "      <th>race_ethnicity</th>\n",
       "      <th>winner</th>\n",
       "      <th>year</th>\n",
       "      <th>political_party</th>\n",
       "    </tr>\n",
       "  </thead>\n",
       "  <tbody>\n",
       "    <tr>\n",
       "      <th>0</th>\n",
       "      <td>100.0</td>\n",
       "      <td>White</td>\n",
       "      <td>0</td>\n",
       "      <td>1928</td>\n",
       "      <td>Republican</td>\n",
       "    </tr>\n",
       "    <tr>\n",
       "      <th>1</th>\n",
       "      <td>100.0</td>\n",
       "      <td>White</td>\n",
       "      <td>1</td>\n",
       "      <td>1928</td>\n",
       "      <td>Republican</td>\n",
       "    </tr>\n",
       "    <tr>\n",
       "      <th>3</th>\n",
       "      <td>100.0</td>\n",
       "      <td>White</td>\n",
       "      <td>0</td>\n",
       "      <td>1929</td>\n",
       "      <td>Republican</td>\n",
       "    </tr>\n",
       "    <tr>\n",
       "      <th>4</th>\n",
       "      <td>100.0</td>\n",
       "      <td>White</td>\n",
       "      <td>1</td>\n",
       "      <td>1929</td>\n",
       "      <td>Republican</td>\n",
       "    </tr>\n",
       "    <tr>\n",
       "      <th>6</th>\n",
       "      <td>100.0</td>\n",
       "      <td>White</td>\n",
       "      <td>0</td>\n",
       "      <td>1930</td>\n",
       "      <td>Republican</td>\n",
       "    </tr>\n",
       "  </tbody>\n",
       "</table>\n",
       "</div>"
      ],
      "text/plain": [
       "   percentage_race_win_nom race_ethnicity  winner  year political_party\n",
       "0                    100.0          White       0  1928      Republican\n",
       "1                    100.0          White       1  1928      Republican\n",
       "3                    100.0          White       0  1929      Republican\n",
       "4                    100.0          White       1  1929      Republican\n",
       "6                    100.0          White       0  1930      Republican"
      ]
     },
     "execution_count": 91,
     "metadata": {},
     "output_type": "execute_result"
    }
   ],
   "source": [
    "data = data.drop(data[data.winner == 2].index)\n",
    "data.head()"
   ]
  },
  {
   "cell_type": "code",
   "execution_count": 92,
   "metadata": {
    "collapsed": true
   },
   "outputs": [],
   "source": [
    "years = {}\n",
    "\n",
    "for index,row in data.iterrows():\n",
    "    if(row[\"year\"] not in list(years.keys())):\n",
    "        years[row[\"year\"]] = {}\n",
    "        years[row[\"year\"]][row[\"race_ethnicity\"]] = {}\n",
    "        years[row[\"year\"]][row[\"race_ethnicity\"]][row[\"winner\"]] = row[\"percentage_race_win_nom\"]\n",
    "        years[row[\"year\"]][row[\"race_ethnicity\"]][\"political_party\"] = row[\"political_party\"]\n",
    "    else:\n",
    "        #se ja existir ano e raca.\n",
    "        if(row[\"race_ethnicity\"] in list(years[row[\"year\"]].keys())):\n",
    "            years[row[\"year\"]][row[\"race_ethnicity\"]][row[\"winner\"]] = row[\"percentage_race_win_nom\"]\n",
    "        else:\n",
    "            years[row[\"year\"]][row[\"race_ethnicity\"]] = {}\n",
    "            years[row[\"year\"]][row[\"race_ethnicity\"]][row[\"winner\"]] = row[\"percentage_race_win_nom\"]\n",
    "            years[row[\"year\"]][row[\"race_ethnicity\"]][\"political_party\"] = row[\"political_party\"]"
   ]
  },
  {
   "cell_type": "code",
   "execution_count": 112,
   "metadata": {},
   "outputs": [
    {
     "data": {
      "text/html": [
       "<div>\n",
       "<style>\n",
       "    .dataframe thead tr:only-child th {\n",
       "        text-align: right;\n",
       "    }\n",
       "\n",
       "    .dataframe thead th {\n",
       "        text-align: left;\n",
       "    }\n",
       "\n",
       "    .dataframe tbody tr th {\n",
       "        vertical-align: top;\n",
       "    }\n",
       "</style>\n",
       "<table border=\"1\" class=\"dataframe\">\n",
       "  <thead>\n",
       "    <tr style=\"text-align: right;\">\n",
       "      <th></th>\n",
       "      <th>percentage_race_win_nom</th>\n",
       "      <th>political_party</th>\n",
       "      <th>race_ethnicity</th>\n",
       "      <th>winner</th>\n",
       "      <th>year</th>\n",
       "    </tr>\n",
       "  </thead>\n",
       "  <tbody>\n",
       "    <tr>\n",
       "      <th>0</th>\n",
       "      <td>100.0</td>\n",
       "      <td>Republican</td>\n",
       "      <td>White</td>\n",
       "      <td>2</td>\n",
       "      <td>1928</td>\n",
       "    </tr>\n",
       "    <tr>\n",
       "      <th>1</th>\n",
       "      <td>100.0</td>\n",
       "      <td>Republican</td>\n",
       "      <td>White</td>\n",
       "      <td>2</td>\n",
       "      <td>1929</td>\n",
       "    </tr>\n",
       "    <tr>\n",
       "      <th>2</th>\n",
       "      <td>100.0</td>\n",
       "      <td>Republican</td>\n",
       "      <td>White</td>\n",
       "      <td>2</td>\n",
       "      <td>1930</td>\n",
       "    </tr>\n",
       "    <tr>\n",
       "      <th>3</th>\n",
       "      <td>100.0</td>\n",
       "      <td>Republican</td>\n",
       "      <td>White</td>\n",
       "      <td>2</td>\n",
       "      <td>1931</td>\n",
       "    </tr>\n",
       "    <tr>\n",
       "      <th>4</th>\n",
       "      <td>100.0</td>\n",
       "      <td>Republican</td>\n",
       "      <td>White</td>\n",
       "      <td>2</td>\n",
       "      <td>1932</td>\n",
       "    </tr>\n",
       "  </tbody>\n",
       "</table>\n",
       "</div>"
      ],
      "text/plain": [
       "   percentage_race_win_nom political_party race_ethnicity  winner  year\n",
       "0                    100.0      Republican          White       2  1928\n",
       "1                    100.0      Republican          White       2  1929\n",
       "2                    100.0      Republican          White       2  1930\n",
       "3                    100.0      Republican          White       2  1931\n",
       "4                    100.0      Republican          White       2  1932"
      ]
     },
     "execution_count": 112,
     "metadata": {},
     "output_type": "execute_result"
    }
   ],
   "source": [
    "rows = []\n",
    "for year in list(years.keys()):\n",
    "    for race in list(years[year].keys()):\n",
    "        new_dic={}\n",
    "        new_dic[\"year\"] = year\n",
    "        new_dic[\"race_ethnicity\"] = race\n",
    "        new_dic[\"political_party\"] = years[year][race][\"political_party\"]\n",
    "        new_dic[\"winner\"] = 2\n",
    "        if( 1 in list(years[year][race].keys()) and 0 in list(years[year][race].keys())):\n",
    "            new_dic[\"percentage_race_win_nom\"] = (years[year][race][1] * 1/5 +  years[year][race][0] * 1/20)  * 100/25\n",
    "        elif 1 in list(years[year][race].keys()):\n",
    "            new_dic[\"percentage_race_win_nom\"] = years[year][race][1] *1/5 * 100/25\n",
    "        elif 0 in list(years[year][race].keys()):\n",
    "            new_dic[\"percentage_race_win_nom\"] = years[year][race][0] * 1/20 * 100/25\n",
    "        rows.append(new_dic)\n",
    "#        print(new_dic)\n",
    "        \n",
    "new_rows_df = pd.DataFrame(rows)\n",
    "new_rows_df.head()"
   ]
  },
  {
   "cell_type": "code",
   "execution_count": 113,
   "metadata": {},
   "outputs": [
    {
     "name": "stdout",
     "output_type": "stream",
     "text": [
      "(268, 5)\n",
      "(169, 5)\n",
      "(437, 5)\n"
     ]
    }
   ],
   "source": [
    "frames = [data, new_rows_df]\n",
    "result = pd.concat(frames)\n",
    "\n",
    "result = result.sort_values('year')\n",
    "\n",
    "print(data.shape)\n",
    "print(new_rows_df.shape)\n",
    "print(result.shape)"
   ]
  },
  {
   "cell_type": "code",
   "execution_count": 114,
   "metadata": {
    "collapsed": true
   },
   "outputs": [],
   "source": [
    "tmp = result.to_csv(\"/home/pedro/Desktop/VI/VI_Project/DATASETS/new_linechart2.csv\")\n"
   ]
  },
  {
   "cell_type": "code",
   "execution_count": 113,
   "metadata": {
    "collapsed": true
   },
   "outputs": [],
   "source": [
    "tmp = df.to_csv(\"/home/pedro/Desktop/VI/VI_Project/lab4/csv/q5updated.csv\")\n"
   ]
  },
  {
   "cell_type": "code",
   "execution_count": null,
   "metadata": {
    "collapsed": true
   },
   "outputs": [],
   "source": []
  }
 ],
 "metadata": {
  "kernelspec": {
   "display_name": "Python 3",
   "language": "python",
   "name": "python3"
  },
  "language_info": {
   "codemirror_mode": {
    "name": "ipython",
    "version": 3
   },
   "file_extension": ".py",
   "mimetype": "text/x-python",
   "name": "python",
   "nbconvert_exporter": "python",
   "pygments_lexer": "ipython3",
   "version": "3.6.3"
  }
 },
 "nbformat": 4,
 "nbformat_minor": 2
}
