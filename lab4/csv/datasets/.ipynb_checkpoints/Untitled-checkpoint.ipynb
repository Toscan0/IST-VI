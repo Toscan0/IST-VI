{
 "cells": [
  {
   "cell_type": "code",
   "execution_count": 89,
   "metadata": {
    "collapsed": true
   },
   "outputs": [],
   "source": [
    "import pandas as pd"
   ]
  },
  {
   "cell_type": "code",
   "execution_count": 90,
   "metadata": {},
   "outputs": [
    {
     "data": {
      "text/html": [
       "<div>\n",
       "<style>\n",
       "    .dataframe thead tr:only-child th {\n",
       "        text-align: right;\n",
       "    }\n",
       "\n",
       "    .dataframe thead th {\n",
       "        text-align: left;\n",
       "    }\n",
       "\n",
       "    .dataframe tbody tr th {\n",
       "        vertical-align: top;\n",
       "    }\n",
       "</style>\n",
       "<table border=\"1\" class=\"dataframe\">\n",
       "  <thead>\n",
       "    <tr style=\"text-align: right;\">\n",
       "      <th></th>\n",
       "      <th>percentage_race_win_nom</th>\n",
       "      <th>race_ethnicity</th>\n",
       "      <th>winner</th>\n",
       "      <th>year</th>\n",
       "      <th>political_party</th>\n",
       "    </tr>\n",
       "  </thead>\n",
       "  <tbody>\n",
       "    <tr>\n",
       "      <th>0</th>\n",
       "      <td>100.0</td>\n",
       "      <td>White</td>\n",
       "      <td>0</td>\n",
       "      <td>1928</td>\n",
       "      <td>Republican</td>\n",
       "    </tr>\n",
       "    <tr>\n",
       "      <th>1</th>\n",
       "      <td>100.0</td>\n",
       "      <td>White</td>\n",
       "      <td>1</td>\n",
       "      <td>1928</td>\n",
       "      <td>Republican</td>\n",
       "    </tr>\n",
       "    <tr>\n",
       "      <th>2</th>\n",
       "      <td>100.0</td>\n",
       "      <td>White</td>\n",
       "      <td>2</td>\n",
       "      <td>1928</td>\n",
       "      <td>Republican</td>\n",
       "    </tr>\n",
       "    <tr>\n",
       "      <th>3</th>\n",
       "      <td>100.0</td>\n",
       "      <td>White</td>\n",
       "      <td>0</td>\n",
       "      <td>1929</td>\n",
       "      <td>Republican</td>\n",
       "    </tr>\n",
       "    <tr>\n",
       "      <th>4</th>\n",
       "      <td>100.0</td>\n",
       "      <td>White</td>\n",
       "      <td>1</td>\n",
       "      <td>1929</td>\n",
       "      <td>Republican</td>\n",
       "    </tr>\n",
       "  </tbody>\n",
       "</table>\n",
       "</div>"
      ],
      "text/plain": [
       "   percentage_race_win_nom race_ethnicity  winner  year political_party\n",
       "0                    100.0          White       0  1928      Republican\n",
       "1                    100.0          White       1  1928      Republican\n",
       "2                    100.0          White       2  1928      Republican\n",
       "3                    100.0          White       0  1929      Republican\n",
       "4                    100.0          White       1  1929      Republican"
      ]
     },
     "execution_count": 90,
     "metadata": {},
     "output_type": "execute_result"
    }
   ],
   "source": [
    "tmp = \"/home/pedro/Desktop/VI/VI_Project/DATASETS/new_linechart.csv\"\n",
    "data = pd.read_csv(tmp)\n",
    "\n",
    "data.head()"
   ]
  },
  {
   "cell_type": "code",
   "execution_count": 91,
   "metadata": {},
   "outputs": [
    {
     "data": {
      "text/html": [
       "<div>\n",
       "<style>\n",
       "    .dataframe thead tr:only-child th {\n",
       "        text-align: right;\n",
       "    }\n",
       "\n",
       "    .dataframe thead th {\n",
       "        text-align: left;\n",
       "    }\n",
       "\n",
       "    .dataframe tbody tr th {\n",
       "        vertical-align: top;\n",
       "    }\n",
       "</style>\n",
       "<table border=\"1\" class=\"dataframe\">\n",
       "  <thead>\n",
       "    <tr style=\"text-align: right;\">\n",
       "      <th></th>\n",
       "      <th>percentage_race_win_nom</th>\n",
       "      <th>race_ethnicity</th>\n",
       "      <th>winner</th>\n",
       "      <th>year</th>\n",
       "      <th>political_party</th>\n",
       "    </tr>\n",
       "  </thead>\n",
       "  <tbody>\n",
       "    <tr>\n",
       "      <th>0</th>\n",
       "      <td>100.0</td>\n",
       "      <td>White</td>\n",
       "      <td>0</td>\n",
       "      <td>1928</td>\n",
       "      <td>Republican</td>\n",
       "    </tr>\n",
       "    <tr>\n",
       "      <th>1</th>\n",
       "      <td>100.0</td>\n",
       "      <td>White</td>\n",
       "      <td>1</td>\n",
       "      <td>1928</td>\n",
       "      <td>Republican</td>\n",
       "    </tr>\n",
       "    <tr>\n",
       "      <th>3</th>\n",
       "      <td>100.0</td>\n",
       "      <td>White</td>\n",
       "      <td>0</td>\n",
       "      <td>1929</td>\n",
       "      <td>Republican</td>\n",
       "    </tr>\n",
       "    <tr>\n",
       "      <th>4</th>\n",
       "      <td>100.0</td>\n",
       "      <td>White</td>\n",
       "      <td>1</td>\n",
       "      <td>1929</td>\n",
       "      <td>Republican</td>\n",
       "    </tr>\n",
       "    <tr>\n",
       "      <th>6</th>\n",
       "      <td>100.0</td>\n",
       "      <td>White</td>\n",
       "      <td>0</td>\n",
       "      <td>1930</td>\n",
       "      <td>Republican</td>\n",
       "    </tr>\n",
       "  </tbody>\n",
       "</table>\n",
       "</div>"
      ],
      "text/plain": [
       "   percentage_race_win_nom race_ethnicity  winner  year political_party\n",
       "0                    100.0          White       0  1928      Republican\n",
       "1                    100.0          White       1  1928      Republican\n",
       "3                    100.0          White       0  1929      Republican\n",
       "4                    100.0          White       1  1929      Republican\n",
       "6                    100.0          White       0  1930      Republican"
      ]
     },
     "execution_count": 91,
     "metadata": {},
     "output_type": "execute_result"
    }
   ],
   "source": [
    "data = data.drop(data[data.winner == 2].index)\n",
    "data.head()"
   ]
  },
  {
   "cell_type": "code",
   "execution_count": 92,
   "metadata": {},
   "outputs": [],
   "source": [
    "years = {}\n",
    "\n",
    "for index,row in data.iterrows():\n",
    "    if(row[\"year\"] not in list(years.keys())):\n",
    "        years[row[\"year\"]] = {}\n",
    "        years[row[\"year\"]][row[\"race_ethnicity\"]] = {}\n",
    "        years[row[\"year\"]][row[\"race_ethnicity\"]][row[\"winner\"]] = row[\"percentage_race_win_nom\"]\n",
    "        years[row[\"year\"]][row[\"race_ethnicity\"]][\"political_party\"] = row[\"political_party\"]\n",
    "    else:\n",
    "        #se ja existir ano e raca.\n",
    "        if(row[\"race_ethnicity\"] in list(years[row[\"year\"]].keys())):\n",
    "            years[row[\"year\"]][row[\"race_ethnicity\"]][row[\"winner\"]] = row[\"percentage_race_win_nom\"]\n",
    "        else:\n",
    "            years[row[\"year\"]][row[\"race_ethnicity\"]] = {}\n",
    "            years[row[\"year\"]][row[\"race_ethnicity\"]][row[\"winner\"]] = row[\"percentage_race_win_nom\"]\n",
    "            years[row[\"year\"]][row[\"race_ethnicity\"]][\"political_party\"] = row[\"political_party\"]"
   ]
  },
  {
   "cell_type": "code",
   "execution_count": 112,
   "metadata": {},
   "outputs": [
    {
     "data": {
      "text/html": [
       "<div>\n",
       "<style>\n",
       "    .dataframe thead tr:only-child th {\n",
       "        text-align: right;\n",
       "    }\n",
       "\n",
       "    .dataframe thead th {\n",
       "        text-align: left;\n",
       "    }\n",
       "\n",
       "    .dataframe tbody tr th {\n",
       "        vertical-align: top;\n",
       "    }\n",
       "</style>\n",
       "<table border=\"1\" class=\"dataframe\">\n",
       "  <thead>\n",
       "    <tr style=\"text-align: right;\">\n",
       "      <th></th>\n",
       "      <th>percentage_race_win_nom</th>\n",
       "      <th>political_party</th>\n",
       "      <th>race_ethnicity</th>\n",
       "      <th>winner</th>\n",
       "      <th>year</th>\n",
       "    </tr>\n",
       "  </thead>\n",
       "  <tbody>\n",
       "    <tr>\n",
       "      <th>0</th>\n",
       "      <td>100.0</td>\n",
       "      <td>Republican</td>\n",
       "      <td>White</td>\n",
       "      <td>2</td>\n",
       "      <td>1928</td>\n",
       "    </tr>\n",
       "    <tr>\n",
       "      <th>1</th>\n",
       "      <td>100.0</td>\n",
       "      <td>Republican</td>\n",
       "      <td>White</td>\n",
       "      <td>2</td>\n",
       "      <td>1929</td>\n",
       "    </tr>\n",
       "    <tr>\n",
       "      <th>2</th>\n",
       "      <td>100.0</td>\n",
       "      <td>Republican</td>\n",
       "      <td>White</td>\n",
       "      <td>2</td>\n",
       "      <td>1930</td>\n",
       "    </tr>\n",
       "    <tr>\n",
       "      <th>3</th>\n",
       "      <td>100.0</td>\n",
       "      <td>Republican</td>\n",
       "      <td>White</td>\n",
       "      <td>2</td>\n",
       "      <td>1931</td>\n",
       "    </tr>\n",
       "    <tr>\n",
       "      <th>4</th>\n",
       "      <td>100.0</td>\n",
       "      <td>Republican</td>\n",
       "      <td>White</td>\n",
       "      <td>2</td>\n",
       "      <td>1932</td>\n",
       "    </tr>\n",
       "  </tbody>\n",
       "</table>\n",
       "</div>"
      ],
      "text/plain": [
       "   percentage_race_win_nom political_party race_ethnicity  winner  year\n",
       "0                    100.0      Republican          White       2  1928\n",
       "1                    100.0      Republican          White       2  1929\n",
       "2                    100.0      Republican          White       2  1930\n",
       "3                    100.0      Republican          White       2  1931\n",
       "4                    100.0      Republican          White       2  1932"
      ]
     },
     "execution_count": 112,
     "metadata": {},
     "output_type": "execute_result"
    }
   ],
   "source": [
    "rows = []\n",
    "for year in list(years.keys()):\n",
    "    for race in list(years[year].keys()):\n",
    "        new_dic={}\n",
    "        new_dic[\"year\"] = year\n",
    "        new_dic[\"race_ethnicity\"] = race\n",
    "        new_dic[\"political_party\"] = years[year][race][\"political_party\"]\n",
    "        new_dic[\"winner\"] = 2\n",
    "        if( 1 in list(years[year][race].keys()) and 0 in list(years[year][race].keys())):\n",
    "            new_dic[\"percentage_race_win_nom\"] = (years[year][race][1] * 1/5 +  years[year][race][0] * 1/20)  * 100/25\n",
    "        elif 1 in list(years[year][race].keys()):\n",
    "            new_dic[\"percentage_race_win_nom\"] = years[year][race][1] *1/5 * 100/25\n",
    "        elif 0 in list(years[year][race].keys()):\n",
    "            new_dic[\"percentage_race_win_nom\"] = years[year][race][0] * 1/20 * 100/25\n",
    "        rows.append(new_dic)\n",
    "#        print(new_dic)\n",
    "        \n",
    "new_rows_df = pd.DataFrame(rows)\n",
    "new_rows_df.head()"
   ]
  },
  {
   "cell_type": "code",
   "execution_count": 113,
   "metadata": {},
   "outputs": [
    {
     "name": "stdout",
     "output_type": "stream",
     "text": [
      "(268, 5)\n",
      "(169, 5)\n",
      "(437, 5)\n"
     ]
    }
   ],
   "source": [
    "frames = [data, new_rows_df]\n",
    "result = pd.concat(frames)\n",
    "\n",
    "result = result.sort_values('year')\n",
    "\n",
    "print(data.shape)\n",
    "print(new_rows_df.shape)\n",
    "print(result.shape)"
   ]
  },
  {
   "cell_type": "code",
   "execution_count": 114,
   "metadata": {},
   "outputs": [],
   "source": [
    "tmp = result.to_csv(\"/home/pedro/Desktop/VI/VI_Project/DATASETS/new_linechart2.csv\")\n"
   ]
  },
  {
   "cell_type": "code",
   "execution_count": 16,
   "metadata": {
    "collapsed": true
   },
   "outputs": [],
   "source": [
    "df = dataframe.groupby([\"year\",\"race_ethnicity\"]).sum()"
   ]
  },
  {
   "cell_type": "code",
   "execution_count": 21,
   "metadata": {},
   "outputs": [
    {
     "data": {
      "text/html": [
       "<div>\n",
       "<style>\n",
       "    .dataframe thead tr:only-child th {\n",
       "        text-align: right;\n",
       "    }\n",
       "\n",
       "    .dataframe thead th {\n",
       "        text-align: left;\n",
       "    }\n",
       "\n",
       "    .dataframe tbody tr th {\n",
       "        vertical-align: top;\n",
       "    }\n",
       "</style>\n",
       "<table border=\"1\" class=\"dataframe\">\n",
       "  <thead>\n",
       "    <tr style=\"text-align: right;\">\n",
       "      <th></th>\n",
       "      <th></th>\n",
       "      <th>winner</th>\n",
       "      <th>percentage_race_win_nom</th>\n",
       "    </tr>\n",
       "    <tr>\n",
       "      <th>year</th>\n",
       "      <th>race_ethnicity</th>\n",
       "      <th></th>\n",
       "      <th></th>\n",
       "    </tr>\n",
       "  </thead>\n",
       "  <tbody>\n",
       "    <tr>\n",
       "      <th>1928</th>\n",
       "      <th>White</th>\n",
       "      <td>1</td>\n",
       "      <td>200.00</td>\n",
       "    </tr>\n",
       "    <tr>\n",
       "      <th>1929</th>\n",
       "      <th>White</th>\n",
       "      <td>1</td>\n",
       "      <td>200.00</td>\n",
       "    </tr>\n",
       "    <tr>\n",
       "      <th>1930</th>\n",
       "      <th>White</th>\n",
       "      <td>1</td>\n",
       "      <td>200.00</td>\n",
       "    </tr>\n",
       "    <tr>\n",
       "      <th>1931</th>\n",
       "      <th>White</th>\n",
       "      <td>1</td>\n",
       "      <td>200.00</td>\n",
       "    </tr>\n",
       "    <tr>\n",
       "      <th>1932</th>\n",
       "      <th>White</th>\n",
       "      <td>1</td>\n",
       "      <td>200.00</td>\n",
       "    </tr>\n",
       "    <tr>\n",
       "      <th>1933</th>\n",
       "      <th>White</th>\n",
       "      <td>1</td>\n",
       "      <td>200.00</td>\n",
       "    </tr>\n",
       "    <tr>\n",
       "      <th>1934</th>\n",
       "      <th>White</th>\n",
       "      <td>1</td>\n",
       "      <td>200.00</td>\n",
       "    </tr>\n",
       "    <tr>\n",
       "      <th rowspan=\"2\" valign=\"top\">1935</th>\n",
       "      <th>Asian</th>\n",
       "      <td>0</td>\n",
       "      <td>8.33</td>\n",
       "    </tr>\n",
       "    <tr>\n",
       "      <th>White</th>\n",
       "      <td>1</td>\n",
       "      <td>191.67</td>\n",
       "    </tr>\n",
       "    <tr>\n",
       "      <th>1936</th>\n",
       "      <th>White</th>\n",
       "      <td>1</td>\n",
       "      <td>200.00</td>\n",
       "    </tr>\n",
       "  </tbody>\n",
       "</table>\n",
       "</div>"
      ],
      "text/plain": [
       "                     winner  percentage_race_win_nom\n",
       "year race_ethnicity                                 \n",
       "1928 White                1                   200.00\n",
       "1929 White                1                   200.00\n",
       "1930 White                1                   200.00\n",
       "1931 White                1                   200.00\n",
       "1932 White                1                   200.00\n",
       "1933 White                1                   200.00\n",
       "1934 White                1                   200.00\n",
       "1935 Asian                0                     8.33\n",
       "     White                1                   191.67\n",
       "1936 White                1                   200.00"
      ]
     },
     "execution_count": 21,
     "metadata": {},
     "output_type": "execute_result"
    }
   ],
   "source": [
    "df.head(10)"
   ]
  },
  {
   "cell_type": "code",
   "execution_count": 32,
   "metadata": {
    "collapsed": true
   },
   "outputs": [],
   "source": [
    "new_dict_rows = []\n",
    "\n",
    "for index,row in df.iterrows():\n",
    "    new_dict = {}  \n",
    "    new_dict[\"year\"] = index[0]\n",
    "    new_dict[\"winner\"] = 2\n",
    "    new_dict[\"race_ethnicity\"] = index[1]\n",
    "    new_dict[\"percentage_race_win_nom\"] = (row[\"percentage_race_win_nom\"] / 200) * 100\n",
    "    new_dict_rows.append(new_dict)\n"
   ]
  },
  {
   "cell_type": "code",
   "execution_count": 35,
   "metadata": {
    "collapsed": true
   },
   "outputs": [],
   "source": [
    "new_df  = pd.DataFrame(new_dict_rows)\n",
    "\n",
    "frames = [dataframe, new_df]\n",
    "\n",
    "result = pd.concat(frames)"
   ]
  },
  {
   "cell_type": "code",
   "execution_count": 43,
   "metadata": {
    "collapsed": true
   },
   "outputs": [],
   "source": [
    "\n",
    "\n",
    "tmp = result.to_csv(\"/home/pedro/Desktop/VI/VI_Project/DATASETS/new_linechart.csv\")\n"
   ]
  },
  {
   "cell_type": "code",
   "execution_count": 320,
   "metadata": {
    "collapsed": true
   },
   "outputs": [],
   "source": [
    "new_df = pd.DataFrame(new_dict)"
   ]
  },
  {
   "cell_type": "code",
   "execution_count": 322,
   "metadata": {
    "collapsed": true
   },
   "outputs": [],
   "source": [
    "new_df.to_csv(r'newEthnics.csv')\n"
   ]
  },
  {
   "cell_type": "code",
   "execution_count": 329,
   "metadata": {
    "collapsed": true
   },
   "outputs": [],
   "source": [
    "tmp = pd.read_csv(\"/home/pedro/Desktop/VI/VI_Project/lab4/csv/newEthnics.csv\")\n",
    "tmp = pd.DataFrame(tmp)"
   ]
  },
  {
   "cell_type": "code",
   "execution_count": 330,
   "metadata": {},
   "outputs": [
    {
     "data": {
      "text/plain": [
       "array(['Unnamed: 0', 'count', 'milestone', 'race_ethnicity', 'year',\n",
       "       'milestone.1', 'sentiment'], dtype=object)"
      ]
     },
     "execution_count": 330,
     "metadata": {},
     "output_type": "execute_result"
    }
   ],
   "source": [
    "tmp.columns.values"
   ]
  },
  {
   "cell_type": "code",
   "execution_count": 331,
   "metadata": {
    "collapsed": true
   },
   "outputs": [],
   "source": [
    "new_dict = {  \"year\" : [], \"count\" : [], \"milestone\" : [], \"race_ethnicity\" : [] , \"sentiment\" : []}\n",
    "\n",
    "\n",
    "for index,row in tmp.iterrows():\n",
    "    if str(row[\"milestone.1\"]) == str(\"nan\"):\n",
    "        new_dict[\"milestone\"].append(-1)\n",
    "        new_dict[\"sentiment\"].append(-1)\n",
    "    else:\n",
    "        new_dict[\"milestone\"].append(row[\"milestone.1\"])\n",
    "        new_dict[\"sentiment\"].append(row[\"sentiment\"])\n",
    "        \n",
    "    new_dict[\"count\"].append(row[\"count\"])\n",
    "    new_dict[\"race_ethnicity\"].append(row[\"race_ethnicity\"])\n",
    "    new_dict[\"year\"].append(row[\"year\"])\n",
    "    "
   ]
  },
  {
   "cell_type": "code",
   "execution_count": 332,
   "metadata": {
    "collapsed": true
   },
   "outputs": [],
   "source": [
    "new_new_df = pd.DataFrame(new_dict)"
   ]
  },
  {
   "cell_type": "code",
   "execution_count": 7,
   "metadata": {
    "collapsed": true
   },
   "outputs": [],
   "source": [
    "#new_new_df.head(20)"
   ]
  },
  {
   "cell_type": "code",
   "execution_count": null,
   "metadata": {
    "collapsed": true
   },
   "outputs": [],
   "source": []
  },
  {
   "cell_type": "code",
   "execution_count": 334,
   "metadata": {
    "collapsed": true
   },
   "outputs": [],
   "source": [
    "new_new_df.to_csv(r'updatedEthnics.csv')\n"
   ]
  },
  {
   "cell_type": "code",
   "execution_count": 28,
   "metadata": {
    "collapsed": true
   },
   "outputs": [],
   "source": [
    "import pandas as pd\n",
    "tmp = pd.read_csv(\"/home/pedro/Desktop/VI/VI_Project/lab4/csv/updatedEthnics.csv\")\n",
    "df = pd.DataFrame(tmp)\n",
    "\n",
    "new_df = df.groupby(['year','race_ethnicity']).sum()\n",
    "\n",
    "count = {}\n",
    "#for index,row in new_df.iterrows():\n",
    "  #  if row[\"year\"] not in years:\n",
    "  #      count[row[\"year\"]] = row[\"count\"]\n",
    "  #  else:\n",
    "  #      count[row[\"year\"]] += row[\"count\"]\n"
   ]
  },
  {
   "cell_type": "code",
   "execution_count": 82,
   "metadata": {},
   "outputs": [
    {
     "data": {
      "text/html": [
       "<div>\n",
       "<style>\n",
       "    .dataframe thead tr:only-child th {\n",
       "        text-align: right;\n",
       "    }\n",
       "\n",
       "    .dataframe thead th {\n",
       "        text-align: left;\n",
       "    }\n",
       "\n",
       "    .dataframe tbody tr th {\n",
       "        vertical-align: top;\n",
       "    }\n",
       "</style>\n",
       "<table border=\"1\" class=\"dataframe\">\n",
       "  <thead>\n",
       "    <tr style=\"text-align: right;\">\n",
       "      <th></th>\n",
       "      <th></th>\n",
       "      <th>count</th>\n",
       "      <th>ratio</th>\n",
       "    </tr>\n",
       "    <tr>\n",
       "      <th>year</th>\n",
       "      <th>race_ethnicity</th>\n",
       "      <th></th>\n",
       "      <th></th>\n",
       "    </tr>\n",
       "  </thead>\n",
       "  <tbody>\n",
       "    <tr>\n",
       "      <th>1928</th>\n",
       "      <th>white</th>\n",
       "      <td>10</td>\n",
       "      <td></td>\n",
       "    </tr>\n",
       "    <tr>\n",
       "      <th>1929</th>\n",
       "      <th>white</th>\n",
       "      <td>16</td>\n",
       "      <td></td>\n",
       "    </tr>\n",
       "    <tr>\n",
       "      <th>1930</th>\n",
       "      <th>white</th>\n",
       "      <td>18</td>\n",
       "      <td></td>\n",
       "    </tr>\n",
       "    <tr>\n",
       "      <th>1931</th>\n",
       "      <th>white</th>\n",
       "      <td>15</td>\n",
       "      <td></td>\n",
       "    </tr>\n",
       "    <tr>\n",
       "      <th>1932</th>\n",
       "      <th>white</th>\n",
       "      <td>9</td>\n",
       "      <td></td>\n",
       "    </tr>\n",
       "  </tbody>\n",
       "</table>\n",
       "</div>"
      ],
      "text/plain": [
       "                     count ratio\n",
       "year race_ethnicity             \n",
       "1928 white              10      \n",
       "1929 white              16      \n",
       "1930 white              18      \n",
       "1931 white              15      \n",
       "1932 white               9      "
      ]
     },
     "execution_count": 82,
     "metadata": {},
     "output_type": "execute_result"
    }
   ],
   "source": [
    "new_df.head()"
   ]
  },
  {
   "cell_type": "code",
   "execution_count": 103,
   "metadata": {
    "collapsed": true
   },
   "outputs": [],
   "source": [
    "count = {}\n",
    "for index,row in df.iterrows():\n",
    "    if row[\"year\"] not in list(count.keys()):\n",
    "        count[row[\"year\"]] = row[\"count\"]\n",
    "    else:\n",
    "        count[row[\"year\"]] += row[\"count\"]\n",
    "\n",
    "\n",
    "strs = [\"\" for x in range(168)]\n"
   ]
  },
  {
   "cell_type": "code",
   "execution_count": 104,
   "metadata": {
    "collapsed": true
   },
   "outputs": [],
   "source": [
    "#df[\"ratio\"] = strs"
   ]
  },
  {
   "cell_type": "code",
   "execution_count": 108,
   "metadata": {
    "collapsed": true
   },
   "outputs": [],
   "source": [
    "#count"
   ]
  },
  {
   "cell_type": "code",
   "execution_count": 109,
   "metadata": {},
   "outputs": [
    {
     "name": "stderr",
     "output_type": "stream",
     "text": [
      "/home/pedro/anaconda3/lib/python3.6/site-packages/ipykernel_launcher.py:5: SettingWithCopyWarning: \n",
      "A value is trying to be set on a copy of a slice from a DataFrame\n",
      "\n",
      "See the caveats in the documentation: http://pandas.pydata.org/pandas-docs/stable/indexing.html#indexing-view-versus-copy\n",
      "  \"\"\"\n"
     ]
    }
   ],
   "source": [
    "for col in df:\n",
    "    for i, row_value in df[col].iteritems():\n",
    "        #df[\"year\"][i] = str(1928)\n",
    "        #break\n",
    "        df[\"ratio\"][i] = df[\"count\"][i] / count[df[\"year\"][i]]\n",
    "    break"
   ]
  },
  {
   "cell_type": "code",
   "execution_count": 113,
   "metadata": {
    "collapsed": true
   },
   "outputs": [],
   "source": [
    "tmp = df.to_csv(\"/home/pedro/Desktop/VI/VI_Project/lab4/csv/q5updated.csv\")\n"
   ]
  },
  {
   "cell_type": "code",
   "execution_count": null,
   "metadata": {
    "collapsed": true
   },
   "outputs": [],
   "source": []
  }
 ],
 "metadata": {
  "kernelspec": {
   "display_name": "Python 3",
   "language": "python",
   "name": "python3"
  },
  "language_info": {
   "codemirror_mode": {
    "name": "ipython",
    "version": 3
   },
   "file_extension": ".py",
   "mimetype": "text/x-python",
   "name": "python",
   "nbconvert_exporter": "python",
   "pygments_lexer": "ipython3",
   "version": "3.6.3"
  }
 },
 "nbformat": 4,
 "nbformat_minor": 2
}
